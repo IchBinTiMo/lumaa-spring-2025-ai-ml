{
  "nbformat": 4,
  "nbformat_minor": 0,
  "metadata": {
    "colab": {
      "provenance": []
    },
    "kernelspec": {
      "name": "python3",
      "display_name": "Python 3"
    },
    "language_info": {
      "name": "python"
    }
  },
  "cells": [
    {
      "cell_type": "markdown",
      "source": [
        "## Install Dependencies"
      ],
      "metadata": {
        "id": "aatklGW0J39F"
      }
    },
    {
      "cell_type": "code",
      "source": [
        "!pip install kagglehub\n",
        "!pip install spacy\n",
        "!pip install scikit-learn\n",
        "!pip install pandas\n",
        "!pip install numpy"
      ],
      "metadata": {
        "id": "6n0JLCsV8Z4X"
      },
      "execution_count": null,
      "outputs": []
    },
    {
      "cell_type": "markdown",
      "source": [
        "## Download Dataset"
      ],
      "metadata": {
        "id": "lVToBPVaAxCL"
      }
    },
    {
      "cell_type": "code",
      "execution_count": null,
      "metadata": {
        "colab": {
          "base_uri": "https://localhost:8080/"
        },
        "id": "G72u7Z3zN3qw",
        "outputId": "573cade4-6763-43b6-d464-a656ca7c063d"
      },
      "outputs": [
        {
          "output_type": "stream",
          "name": "stdout",
          "text": [
            "Path to dataset files: /root/.cache/kagglehub/datasets/utkarshx27/movies-dataset/versions/1\n"
          ]
        }
      ],
      "source": [
        "import kagglehub\n",
        "\n",
        "# download latest version\n",
        "path = kagglehub.dataset_download(\"utkarshx27/movies-dataset\")\n",
        "\n",
        "print(\"Path to dataset files:\", path)"
      ]
    },
    {
      "cell_type": "markdown",
      "source": [
        "## Loading Dataset"
      ],
      "metadata": {
        "id": "ilzsMSs_BCOt"
      }
    },
    {
      "cell_type": "code",
      "source": [
        "import pandas as pd\n",
        "from sklearn.feature_extraction.text import TfidfVectorizer\n",
        "from sklearn.metrics.pairwise import cosine_similarity\n",
        "\n",
        "df = pd.read_csv(path + \"/movie_dataset.csv\")\n",
        "\n",
        "df.columns"
      ],
      "metadata": {
        "colab": {
          "base_uri": "https://localhost:8080/"
        },
        "id": "gapaiaRMO_YI",
        "outputId": "a2649643-8912-4712-82d9-1b5c98c31381"
      },
      "execution_count": null,
      "outputs": [
        {
          "output_type": "execute_result",
          "data": {
            "text/plain": [
              "Index(['index', 'budget', 'genres', 'homepage', 'id', 'keywords',\n",
              "       'original_language', 'original_title', 'overview', 'popularity',\n",
              "       'production_companies', 'production_countries', 'release_date',\n",
              "       'revenue', 'runtime', 'spoken_languages', 'status', 'tagline', 'title',\n",
              "       'vote_average', 'vote_count', 'cast', 'crew', 'director'],\n",
              "      dtype='object')"
            ]
          },
          "metadata": {},
          "execution_count": 80
        }
      ]
    },
    {
      "cell_type": "markdown",
      "source": [
        "## Helper Functions"
      ],
      "metadata": {
        "id": "_RWLL18CA2xG"
      }
    },
    {
      "cell_type": "code",
      "source": [
        "import spacy\n",
        "\n",
        "nlp = spacy.load(\"en_core_web_sm\")"
      ],
      "metadata": {
        "id": "GTamXOkdWK0C"
      },
      "execution_count": null,
      "outputs": []
    },
    {
      "cell_type": "code",
      "source": [
        "def preprocess_data(df):\n",
        "  df[\"release_year\"] = df[\"release_date\"].apply(lambda x: \"\" if type(x) == float else x.split(\"-\")[0])\n",
        "  df[\"overview\"] = df[\"overview\"].fillna(\"\")\n",
        "  df[\"metadata\"] = (\n",
        "      df[\"genres\"].fillna(\"\") + \" \" +\n",
        "      df[\"keywords\"].fillna(\"\") + \" \" +\n",
        "      df[\"overview\"].fillna(\"\") + \" \" +\n",
        "      df[\"tagline\"].fillna(\"\") + \" \" +\n",
        "      df[\"title\"].fillna(\"\") + \" \" +\n",
        "      df[\"cast\"].fillna(\"\") + \" \" +\n",
        "      df[\"director\"].fillna(\"\")\n",
        "  )\n",
        "\n",
        "  return df"
      ],
      "metadata": {
        "id": "Jxd9dk5dqx36"
      },
      "execution_count": null,
      "outputs": []
    },
    {
      "cell_type": "code",
      "source": [
        "# parse user query using dependency parsing\n",
        "def parse_query(query):\n",
        "  doc = nlp(query.lower())\n",
        "  filters = {\n",
        "    \"include\": {\n",
        "        \"genres\": [],\n",
        "        \"cast\": [],\n",
        "        \"director\": [],\n",
        "        \"release_year\": []\n",
        "      },\n",
        "    \"exclude\": {\n",
        "        \"genres\": [],\n",
        "        \"cast\": [],\n",
        "        \"director\": [],\n",
        "        \"release_year\": []\n",
        "      }\n",
        "  }\n",
        "\n",
        "  # extract noun chunks and their dependencies\n",
        "  for chunk in doc.noun_chunks:\n",
        "    # check for negation (e.g., \"no Tom Hanks\" or \"movies without Spielberg\")\n",
        "    excluded_term = None\n",
        "\n",
        "    # case 1: Direct determiner (e.g., \"no action movies\")\n",
        "    if chunk.root.dep_ == \"dobj\" and chunk.root.head.dep_ == \"neg\":\n",
        "      excluded_term = chunk.text\n",
        "    # case 2: Prepositional phrase (e.g., \"movies w/o Tom Hanks\")\n",
        "    elif chunk.root.dep_ == \"pobj\" and chunk.root.head.text in [\"without\", \"w/o\", \"no\", \"not\", \"excluding\"]:\n",
        "      excluded_term = chunk.text\n",
        "    # case 3: Determiner \"no\" (e.g., \"no sci-fi\")\n",
        "    elif any(token.text in [\"no\", \"not\"] for token in chunk):\n",
        "      excluded_term = chunk.text\n",
        "\n",
        "    # classify the excluded term into a category\n",
        "    if excluded_term:\n",
        "      # check if term is a person (actor/director)\n",
        "      if any(ent.label_ == \"PERSON\" for ent in chunk.ents):\n",
        "        filters[\"exclude\"][\"cast\"].append(excluded_term)\n",
        "        filters[\"exclude\"][\"director\"].append(excluded_term)\n",
        "      # check if term is a genre\n",
        "      elif \"movies\" in chunk.root.head.text:\n",
        "        filters[\"exclude\"][\"genres\"].append(excluded_term)\n",
        "      # candle years (e.g., \"no 90s movies\")\n",
        "      elif any(ent.label_ == \"DATE\" for ent in chunk.ents):\n",
        "        year = int(excluded_term.replace(\"s\", \"\"))\n",
        "        filters[\"exclude\"][\"release_year\"].extend(range(year, year + 10))\n",
        "\n",
        "  # extract positive terms (non-negated)\n",
        "  for token in doc:\n",
        "    if token.ent_type_ == \"PERSON\" and token.text not in filters[\"exclude\"][\"cast\"]:\n",
        "      filters[\"include\"][\"cast\"].append(token.text)\n",
        "    elif token.ent_type_ == \"DATE\" and not token.text.endswith(\"s\"):\n",
        "      year = int(token.text)\n",
        "      filters[\"include\"][\"release_year\"].append(year)\n",
        "    elif token.dep_ == \"compound\" and token.head.lemma_ == \"movie\":\n",
        "      filters[\"include\"][\"genres\"].append(token.text)\n",
        "\n",
        "  return filters"
      ],
      "metadata": {
        "id": "wfK9EeahrCV1"
      },
      "execution_count": null,
      "outputs": []
    },
    {
      "cell_type": "code",
      "source": [
        "# filter movies based on parsed query\n",
        "def filter_movies(df, filters):\n",
        "  filtered_df = df.copy()\n",
        "\n",
        "  # apply include filters\n",
        "  for category in filters[\"include\"]:\n",
        "    terms = filters[\"include\"][category]\n",
        "    if terms:\n",
        "      if category == \"release_year\":\n",
        "        filtered_df = filtered_df[filtered_df[category].isin(terms)]\n",
        "      else:\n",
        "        mask = filtered_df[category].str.contains('|'.join(terms), case=False, na=False)\n",
        "        filtered_df = filtered_df[mask]\n",
        "\n",
        "  # apply exclude filters\n",
        "  for category in filters[\"exclude\"]:\n",
        "    terms = filters[\"exclude\"][category]\n",
        "    if terms:\n",
        "      if category == \"release_year\":\n",
        "        filtered_df = filtered_df[~filtered_df[category].isin(terms)]\n",
        "      else:\n",
        "        mask = filtered_df[category].str.contains('|'.join(terms), case=False, na=False)\n",
        "        filtered_df = filtered_df[~mask]\n",
        "\n",
        "  return filtered_df"
      ],
      "metadata": {
        "id": "Wk8bI2qet_is"
      },
      "execution_count": null,
      "outputs": []
    },
    {
      "cell_type": "code",
      "source": [
        "def recommend_movies(query, top_n=5):\n",
        "  filters = parse_query(query)\n",
        "  filtered_df = filter_movies(df, filters)\n",
        "\n",
        "  if filtered_df.empty:\n",
        "    return f\"Sorry, we can't find movies for {query}\"\n",
        "\n",
        "  # compute similarity with TF-IDF\n",
        "  query_vec = tfidf.transform([query])\n",
        "  cosine_sim = cosine_similarity(query_vec, tfidf_matrix[filtered_df.index]).flatten()\n",
        "\n",
        "  filtered_df[\"similarity\"] = cosine_sim\n",
        "\n",
        "  recommendations = filtered_df.sort_values(by=\"similarity\", ascending=False).head(top_n)\n",
        "\n",
        "  recommendations[\"similarity\"] = recommendations[\"similarity\"].apply(lambda x: f\"{int(x * 10000) / 100}%\")\n",
        "\n",
        "  return recommendations[[\"title\", \"genres\", \"cast\", \"overview\", \"release_year\", \"similarity\"]]"
      ],
      "metadata": {
        "id": "flJJymaSuNMG"
      },
      "execution_count": 101,
      "outputs": []
    },
    {
      "cell_type": "code",
      "source": [
        "def print_results(results):\n",
        "\n",
        "  for index, result in results.iterrows():\n",
        "    title = result.get(\"title\", \"N/A\")\n",
        "    genres = \", \".join(result[\"genres\"].split(\" \"))\n",
        "    cast = result[\"cast\"]\n",
        "    overview = result[\"overview\"]\n",
        "    release_year = result[\"release_year\"]\n",
        "    similarity = result[\"similarity\"]\n",
        "\n",
        "    print(f\"{title} ({release_year})\")\n",
        "    print(f\"Genres: {genres}\")\n",
        "    print(f\"Cast: {cast}\")\n",
        "    print(f\"Overview: {overview}\")\n",
        "    print(f\"Similarity: {similarity}\")\n",
        "    print()"
      ],
      "metadata": {
        "id": "IpDjqlPHMxsf"
      },
      "execution_count": 164,
      "outputs": []
    },
    {
      "cell_type": "markdown",
      "source": [
        "## TF-IDF Generation"
      ],
      "metadata": {
        "id": "Y-qLdXb_BH65"
      }
    },
    {
      "cell_type": "code",
      "source": [
        "df = preprocess_data(df)\n",
        "\n",
        "# initialize TF-IDF\n",
        "tfidf = TfidfVectorizer(stop_words='english')\n",
        "tfidf_matrix = tfidf.fit_transform(df[\"metadata\"])"
      ],
      "metadata": {
        "id": "MAJILEz9uTeb"
      },
      "execution_count": null,
      "outputs": []
    },
    {
      "cell_type": "code",
      "source": [
        "tfidf_matrix.shape"
      ],
      "metadata": {
        "colab": {
          "base_uri": "https://localhost:8080/"
        },
        "id": "eSuPWvq8vAZI",
        "outputId": "9bf8247b-554b-4cd0-a8b1-135841bc8863"
      },
      "execution_count": null,
      "outputs": [
        {
          "output_type": "execute_result",
          "data": {
            "text/plain": [
              "(4803, 31064)"
            ]
          },
          "metadata": {},
          "execution_count": 87
        }
      ]
    },
    {
      "cell_type": "markdown",
      "source": [
        "## Result"
      ],
      "metadata": {
        "id": "SgWKogQBBKY4"
      }
    },
    {
      "cell_type": "code",
      "source": [
        "your_query = \"horror movies with zombie\" # modify the string and run this cell to get movies recommendations\n",
        "res = recommend_movies(your_query)\n",
        "\n",
        "print_results(res)"
      ],
      "metadata": {
        "colab": {
          "base_uri": "https://localhost:8080/"
        },
        "id": "Z2dhrl0q-nQG",
        "outputId": "1eb795a7-3b12-4f02-e935-411236976e03"
      },
      "execution_count": 168,
      "outputs": [
        {
          "output_type": "stream",
          "name": "stdout",
          "text": [
            "Grindhouse (2007)\n",
            "Genres: Thriller, Action, Horror\n",
            "Cast: Kurt Russell Zo\\u00eb Bell Rosario Dawson Vanessa Ferlito Sydney Tamiia Poitier\n",
            "Overview: Two full length feature horror movies written by Quentin Tarantino and Robert Rodriguez put together as a two film feature. Including fake movie trailers in between both movies.\n",
            "Similarity: 33.21%\n",
            "\n",
            "Re-Kill (2015)\n",
            "Genres: Horror, Science, Fiction\n",
            "Cast: Roger Cross Scott Adkins Daniella Alonso Bruce Payne Jesse Garcia\n",
            "Overview: Five years after a zombie outbreak, the men and women of R-Division hunt down and destroy the undead. When they see signs of a second outbreak, they fear humanity may not survive.\n",
            "Similarity: 30.73%\n",
            "\n",
            "Warm Bodies (2013)\n",
            "Genres: Horror, Comedy, Romance\n",
            "Cast: Nicholas Hoult Teresa Palmer Analeigh Tipton Rob Corddry Dave Franco\n",
            "Overview: After a zombie becomes involved with the girlfriend of one of his victims, their romance sets in motion a sequence of events that might transform the entire lifeless world.\n",
            "Similarity: 29.14%\n",
            "\n",
            "Night of the Living Dead (1968)\n",
            "Genres: Horror\n",
            "Cast: Duane Jones Judith O'Dea Karl Hardman Marilyn Eastman Keith Wayne\n",
            "Overview: A group of people try to survive an attack of bloodthirsty zombies while trapped in a rural Pennsylvania farmhouse. Although not the first zombie film, Night of the Living Dead is the progenitor of the contemporary \"zombie apocalypse\" horror film, and it greatly influenced the modern pop-culture zombie archetype.\n",
            "Similarity: 27.99%\n",
            "\n",
            "Pride and Prejudice and Zombies (2016)\n",
            "Genres: Romance, Horror, Comedy, Thriller\n",
            "Cast: Lily James Sam Riley Jack Huston Bella Heathcote Douglas Booth\n",
            "Overview: A zombie outbreak has fallen upon the land in this reimagining of Jane Austen’s classic tale of the tangled relationships between lovers from different social classes in 19th century England. Feisty heroine Elizabeth Bennet (Lily James) is a master of martial arts and weaponry and the handsome Mr. Darcy (Sam Riley) is a fierce zombie killer, yet the epitome of upper class prejudice. As the zombie outbreak intensifies, they must swallow their pride and join forces on the blood-soaked battlefield in order to conquer the undead once and for all.\n",
            "Similarity: 25.45%\n",
            "\n"
          ]
        }
      ]
    }
  ]
}