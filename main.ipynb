{
  "nbformat": 4,
  "nbformat_minor": 0,
  "metadata": {
    "colab": {
      "provenance": []
    },
    "kernelspec": {
      "name": "python3",
      "display_name": "Python 3"
    },
    "language_info": {
      "name": "python"
    }
  },
  "cells": [
    {
      "cell_type": "markdown",
      "source": [
        "## Install Dependencies"
      ],
      "metadata": {
        "id": "aatklGW0J39F"
      }
    },
    {
      "cell_type": "code",
      "source": [
        "!pip install kagglehub\n",
        "!pip install spacy\n",
        "!pip install scikit-learn\n",
        "!pip install pandas\n",
        "!pip install numpy"
      ],
      "metadata": {
        "id": "6n0JLCsV8Z4X"
      },
      "execution_count": null,
      "outputs": []
    },
    {
      "cell_type": "markdown",
      "source": [
        "## Download Dataset"
      ],
      "metadata": {
        "id": "lVToBPVaAxCL"
      }
    },
    {
      "cell_type": "code",
      "execution_count": null,
      "metadata": {
        "colab": {
          "base_uri": "https://localhost:8080/"
        },
        "id": "G72u7Z3zN3qw",
        "outputId": "573cade4-6763-43b6-d464-a656ca7c063d"
      },
      "outputs": [
        {
          "output_type": "stream",
          "name": "stdout",
          "text": [
            "Path to dataset files: /root/.cache/kagglehub/datasets/utkarshx27/movies-dataset/versions/1\n"
          ]
        }
      ],
      "source": [
        "import kagglehub\n",
        "\n",
        "# download latest version\n",
        "path = kagglehub.dataset_download(\"utkarshx27/movies-dataset\")\n",
        "\n",
        "print(\"Path to dataset files:\", path)"
      ]
    },
    {
      "cell_type": "markdown",
      "source": [
        "## Loading Dataset"
      ],
      "metadata": {
        "id": "ilzsMSs_BCOt"
      }
    },
    {
      "cell_type": "code",
      "source": [
        "import pandas as pd\n",
        "from sklearn.feature_extraction.text import TfidfVectorizer\n",
        "from sklearn.metrics.pairwise import cosine_similarity\n",
        "\n",
        "df = pd.read_csv(path + \"/movie_dataset.csv\")\n",
        "\n",
        "df.columns"
      ],
      "metadata": {
        "colab": {
          "base_uri": "https://localhost:8080/"
        },
        "id": "gapaiaRMO_YI",
        "outputId": "a2649643-8912-4712-82d9-1b5c98c31381"
      },
      "execution_count": null,
      "outputs": [
        {
          "output_type": "execute_result",
          "data": {
            "text/plain": [
              "Index(['index', 'budget', 'genres', 'homepage', 'id', 'keywords',\n",
              "       'original_language', 'original_title', 'overview', 'popularity',\n",
              "       'production_companies', 'production_countries', 'release_date',\n",
              "       'revenue', 'runtime', 'spoken_languages', 'status', 'tagline', 'title',\n",
              "       'vote_average', 'vote_count', 'cast', 'crew', 'director'],\n",
              "      dtype='object')"
            ]
          },
          "metadata": {},
          "execution_count": 80
        }
      ]
    },
    {
      "cell_type": "markdown",
      "source": [
        "## Helper Functions"
      ],
      "metadata": {
        "id": "_RWLL18CA2xG"
      }
    },
    {
      "cell_type": "code",
      "source": [
        "import spacy\n",
        "\n",
        "nlp = spacy.load(\"en_core_web_sm\")"
      ],
      "metadata": {
        "id": "GTamXOkdWK0C"
      },
      "execution_count": null,
      "outputs": []
    },
    {
      "cell_type": "code",
      "source": [
        "def preprocess_data(df):\n",
        "  df[\"release_year\"] = df[\"release_date\"].apply(lambda x: \"\" if type(x) == float else x.split(\"-\")[0])\n",
        "  df[\"overview\"] = df[\"overview\"].fillna(\"\")\n",
        "  df[\"metadata\"] = (\n",
        "      df[\"genres\"].fillna(\"\") + \" \" +\n",
        "      df[\"keywords\"].fillna(\"\") + \" \" +\n",
        "      df[\"overview\"].fillna(\"\") + \" \" +\n",
        "      df[\"tagline\"].fillna(\"\") + \" \" +\n",
        "      df[\"title\"].fillna(\"\") + \" \" +\n",
        "      df[\"cast\"].fillna(\"\") + \" \" +\n",
        "      df[\"director\"].fillna(\"\")\n",
        "  )\n",
        "\n",
        "  return df"
      ],
      "metadata": {
        "id": "Jxd9dk5dqx36"
      },
      "execution_count": null,
      "outputs": []
    },
    {
      "cell_type": "code",
      "source": [
        "# parse user query using dependency parsing\n",
        "def parse_query(query):\n",
        "  doc = nlp(query.lower())\n",
        "  filters = {\n",
        "    \"include\": {\n",
        "        \"genres\": [],\n",
        "        \"cast\": [],\n",
        "        \"director\": [],\n",
        "        \"release_year\": []\n",
        "      },\n",
        "    \"exclude\": {\n",
        "        \"genres\": [],\n",
        "        \"cast\": [],\n",
        "        \"director\": [],\n",
        "        \"release_year\": []\n",
        "      }\n",
        "  }\n",
        "\n",
        "  # extract noun chunks and their dependencies\n",
        "  for chunk in doc.noun_chunks:\n",
        "    # check for negation (e.g., \"no Tom Hanks\" or \"movies without Spielberg\")\n",
        "    excluded_term = None\n",
        "\n",
        "    # case 1: Direct determiner (e.g., \"no action movies\")\n",
        "    if chunk.root.dep_ == \"dobj\" and chunk.root.head.dep_ == \"neg\":\n",
        "      excluded_term = chunk.text\n",
        "    # case 2: Prepositional phrase (e.g., \"movies w/o Tom Hanks\")\n",
        "    elif chunk.root.dep_ == \"pobj\" and chunk.root.head.text in [\"without\", \"w/o\", \"no\", \"not\", \"excluding\"]:\n",
        "      excluded_term = chunk.text\n",
        "    # case 3: Determiner \"no\" (e.g., \"no sci-fi\")\n",
        "    elif any(token.text in [\"no\", \"not\"] for token in chunk):\n",
        "      excluded_term = chunk.text\n",
        "\n",
        "    # classify the excluded term into a category\n",
        "    if excluded_term:\n",
        "      # check if term is a person (actor/director)\n",
        "      if any(ent.label_ == \"PERSON\" for ent in chunk.ents):\n",
        "        filters[\"exclude\"][\"cast\"].append(excluded_term)\n",
        "        filters[\"exclude\"][\"director\"].append(excluded_term)\n",
        "      # check if term is a genre\n",
        "      elif \"movies\" in chunk.root.head.text:\n",
        "        filters[\"exclude\"][\"genres\"].append(excluded_term)\n",
        "      # candle years (e.g., \"no 90s movies\")\n",
        "      elif any(ent.label_ == \"DATE\" for ent in chunk.ents):\n",
        "        year = int(excluded_term.replace(\"s\", \"\"))\n",
        "        filters[\"exclude\"][\"release_year\"].extend(range(year, year + 10))\n",
        "\n",
        "  # extract positive terms (non-negated)\n",
        "  for token in doc:\n",
        "    if token.ent_type_ == \"PERSON\" and token.text not in filters[\"exclude\"][\"cast\"]:\n",
        "      filters[\"include\"][\"cast\"].append(token.text)\n",
        "    elif token.ent_type_ == \"DATE\" and not token.text.endswith(\"s\"):\n",
        "      year = int(token.text)\n",
        "      filters[\"include\"][\"release_year\"].append(year)\n",
        "    elif token.dep_ == \"compound\" and token.head.lemma_ == \"movie\":\n",
        "      filters[\"include\"][\"genres\"].append(token.text)\n",
        "\n",
        "  return filters"
      ],
      "metadata": {
        "id": "wfK9EeahrCV1"
      },
      "execution_count": null,
      "outputs": []
    },
    {
      "cell_type": "code",
      "source": [
        "# filter movies based on parsed query\n",
        "def filter_movies(df, filters):\n",
        "  filtered_df = df.copy()\n",
        "\n",
        "  # apply include filters\n",
        "  for category in filters[\"include\"]:\n",
        "    terms = filters[\"include\"][category]\n",
        "    if terms:\n",
        "      if category == \"release_year\":\n",
        "        filtered_df = filtered_df[filtered_df[category].isin(terms)]\n",
        "      else:\n",
        "        mask = filtered_df[category].str.contains('|'.join(terms), case=False, na=False)\n",
        "        filtered_df = filtered_df[mask]\n",
        "\n",
        "  # apply exclude filters\n",
        "  for category in filters[\"exclude\"]:\n",
        "    terms = filters[\"exclude\"][category]\n",
        "    if terms:\n",
        "      if category == \"release_year\":\n",
        "        filtered_df = filtered_df[~filtered_df[category].isin(terms)]\n",
        "      else:\n",
        "        mask = filtered_df[category].str.contains('|'.join(terms), case=False, na=False)\n",
        "        filtered_df = filtered_df[~mask]\n",
        "\n",
        "  return filtered_df"
      ],
      "metadata": {
        "id": "Wk8bI2qet_is"
      },
      "execution_count": null,
      "outputs": []
    },
    {
      "cell_type": "code",
      "source": [
        "def recommend_movies(query, top_n=5):\n",
        "  filters = parse_query(query)\n",
        "  filtered_df = filter_movies(df, filters)\n",
        "\n",
        "  if filtered_df.empty:\n",
        "    return f\"Sorry, we can't find movies for {query}\"\n",
        "\n",
        "  # compute similarity with TF-IDF\n",
        "  query_vec = tfidf.transform([query])\n",
        "  cosine_sim = cosine_similarity(query_vec, tfidf_matrix[filtered_df.index]).flatten()\n",
        "\n",
        "  filtered_df[\"similarity\"] = cosine_sim\n",
        "\n",
        "  recommendations = filtered_df.sort_values(by=\"similarity\", ascending=False).head(top_n)\n",
        "\n",
        "  recommendations[\"similarity\"] = recommendations[\"similarity\"].apply(lambda x: f\"{int(x * 10000) / 100}%\")\n",
        "\n",
        "  return recommendations[[\"title\", \"genres\", \"cast\", \"overview\", \"release_date\", \"similarity\"]]"
      ],
      "metadata": {
        "id": "flJJymaSuNMG"
      },
      "execution_count": null,
      "outputs": []
    },
    {
      "cell_type": "markdown",
      "source": [
        "## TF-IDF Generation"
      ],
      "metadata": {
        "id": "Y-qLdXb_BH65"
      }
    },
    {
      "cell_type": "code",
      "source": [
        "df = preprocess_data(df)\n",
        "\n",
        "# initialize TF-IDF\n",
        "tfidf = TfidfVectorizer(stop_words='english')\n",
        "tfidf_matrix = tfidf.fit_transform(df[\"metadata\"])"
      ],
      "metadata": {
        "id": "MAJILEz9uTeb"
      },
      "execution_count": null,
      "outputs": []
    },
    {
      "cell_type": "code",
      "source": [
        "tfidf_matrix.shape"
      ],
      "metadata": {
        "colab": {
          "base_uri": "https://localhost:8080/"
        },
        "id": "eSuPWvq8vAZI",
        "outputId": "9bf8247b-554b-4cd0-a8b1-135841bc8863"
      },
      "execution_count": null,
      "outputs": [
        {
          "output_type": "execute_result",
          "data": {
            "text/plain": [
              "(4803, 31064)"
            ]
          },
          "metadata": {},
          "execution_count": 87
        }
      ]
    },
    {
      "cell_type": "markdown",
      "source": [
        "## Result"
      ],
      "metadata": {
        "id": "SgWKogQBBKY4"
      }
    },
    {
      "cell_type": "code",
      "source": [
        "your_query = \"horror movies with zombie\" # modify the string and run this cell to get movies recommendations\n",
        "res = recommend_movies(your_query)\n",
        "res"
      ],
      "metadata": {
        "colab": {
          "base_uri": "https://localhost:8080/",
          "height": 206
        },
        "id": "Z2dhrl0q-nQG",
        "outputId": "877625d5-617d-4569-acb4-bb78ed71da58"
      },
      "execution_count": null,
      "outputs": [
        {
          "output_type": "execute_result",
          "data": {
            "text/plain": [
              "                                title                          genres  \\\n",
              "880                        Grindhouse          Thriller Action Horror   \n",
              "3147                          Re-Kill          Horror Science Fiction   \n",
              "1567                      Warm Bodies           Horror Comedy Romance   \n",
              "3737         Night of the Living Dead                          Horror   \n",
              "1737  Pride and Prejudice and Zombies  Romance Horror Comedy Thriller   \n",
              "\n",
              "                                                   cast  \\\n",
              "880   Kurt Russell Zo\\u00eb Bell Rosario Dawson Vane...   \n",
              "3147  Roger Cross Scott Adkins Daniella Alonso Bruce...   \n",
              "1567  Nicholas Hoult Teresa Palmer Analeigh Tipton R...   \n",
              "3737  Duane Jones Judith O'Dea Karl Hardman Marilyn ...   \n",
              "1737  Lily James Sam Riley Jack Huston Bella Heathco...   \n",
              "\n",
              "                                               overview release_date  \\\n",
              "880   Two full length feature horror movies written ...   2007-04-06   \n",
              "3147  Five years after a zombie outbreak, the men an...   2015-10-16   \n",
              "1567  After a zombie becomes involved with the girlf...   2013-01-31   \n",
              "3737  A group of people try to survive an attack of ...   1968-10-01   \n",
              "1737  A zombie outbreak has fallen upon the land in ...   2016-02-04   \n",
              "\n",
              "     similarity  \n",
              "880      33.21%  \n",
              "3147     30.73%  \n",
              "1567     29.14%  \n",
              "3737     27.99%  \n",
              "1737     25.45%  "
            ],
            "text/html": [
              "\n",
              "  <div id=\"df-4bed000d-2b71-4811-ad1f-ee08893d74c6\" class=\"colab-df-container\">\n",
              "    <div>\n",
              "<style scoped>\n",
              "    .dataframe tbody tr th:only-of-type {\n",
              "        vertical-align: middle;\n",
              "    }\n",
              "\n",
              "    .dataframe tbody tr th {\n",
              "        vertical-align: top;\n",
              "    }\n",
              "\n",
              "    .dataframe thead th {\n",
              "        text-align: right;\n",
              "    }\n",
              "</style>\n",
              "<table border=\"1\" class=\"dataframe\">\n",
              "  <thead>\n",
              "    <tr style=\"text-align: right;\">\n",
              "      <th></th>\n",
              "      <th>title</th>\n",
              "      <th>genres</th>\n",
              "      <th>cast</th>\n",
              "      <th>overview</th>\n",
              "      <th>release_date</th>\n",
              "      <th>similarity</th>\n",
              "    </tr>\n",
              "  </thead>\n",
              "  <tbody>\n",
              "    <tr>\n",
              "      <th>880</th>\n",
              "      <td>Grindhouse</td>\n",
              "      <td>Thriller Action Horror</td>\n",
              "      <td>Kurt Russell Zo\\u00eb Bell Rosario Dawson Vane...</td>\n",
              "      <td>Two full length feature horror movies written ...</td>\n",
              "      <td>2007-04-06</td>\n",
              "      <td>33.21%</td>\n",
              "    </tr>\n",
              "    <tr>\n",
              "      <th>3147</th>\n",
              "      <td>Re-Kill</td>\n",
              "      <td>Horror Science Fiction</td>\n",
              "      <td>Roger Cross Scott Adkins Daniella Alonso Bruce...</td>\n",
              "      <td>Five years after a zombie outbreak, the men an...</td>\n",
              "      <td>2015-10-16</td>\n",
              "      <td>30.73%</td>\n",
              "    </tr>\n",
              "    <tr>\n",
              "      <th>1567</th>\n",
              "      <td>Warm Bodies</td>\n",
              "      <td>Horror Comedy Romance</td>\n",
              "      <td>Nicholas Hoult Teresa Palmer Analeigh Tipton R...</td>\n",
              "      <td>After a zombie becomes involved with the girlf...</td>\n",
              "      <td>2013-01-31</td>\n",
              "      <td>29.14%</td>\n",
              "    </tr>\n",
              "    <tr>\n",
              "      <th>3737</th>\n",
              "      <td>Night of the Living Dead</td>\n",
              "      <td>Horror</td>\n",
              "      <td>Duane Jones Judith O'Dea Karl Hardman Marilyn ...</td>\n",
              "      <td>A group of people try to survive an attack of ...</td>\n",
              "      <td>1968-10-01</td>\n",
              "      <td>27.99%</td>\n",
              "    </tr>\n",
              "    <tr>\n",
              "      <th>1737</th>\n",
              "      <td>Pride and Prejudice and Zombies</td>\n",
              "      <td>Romance Horror Comedy Thriller</td>\n",
              "      <td>Lily James Sam Riley Jack Huston Bella Heathco...</td>\n",
              "      <td>A zombie outbreak has fallen upon the land in ...</td>\n",
              "      <td>2016-02-04</td>\n",
              "      <td>25.45%</td>\n",
              "    </tr>\n",
              "  </tbody>\n",
              "</table>\n",
              "</div>\n",
              "    <div class=\"colab-df-buttons\">\n",
              "\n",
              "  <div class=\"colab-df-container\">\n",
              "    <button class=\"colab-df-convert\" onclick=\"convertToInteractive('df-4bed000d-2b71-4811-ad1f-ee08893d74c6')\"\n",
              "            title=\"Convert this dataframe to an interactive table.\"\n",
              "            style=\"display:none;\">\n",
              "\n",
              "  <svg xmlns=\"http://www.w3.org/2000/svg\" height=\"24px\" viewBox=\"0 -960 960 960\">\n",
              "    <path d=\"M120-120v-720h720v720H120Zm60-500h600v-160H180v160Zm220 220h160v-160H400v160Zm0 220h160v-160H400v160ZM180-400h160v-160H180v160Zm440 0h160v-160H620v160ZM180-180h160v-160H180v160Zm440 0h160v-160H620v160Z\"/>\n",
              "  </svg>\n",
              "    </button>\n",
              "\n",
              "  <style>\n",
              "    .colab-df-container {\n",
              "      display:flex;\n",
              "      gap: 12px;\n",
              "    }\n",
              "\n",
              "    .colab-df-convert {\n",
              "      background-color: #E8F0FE;\n",
              "      border: none;\n",
              "      border-radius: 50%;\n",
              "      cursor: pointer;\n",
              "      display: none;\n",
              "      fill: #1967D2;\n",
              "      height: 32px;\n",
              "      padding: 0 0 0 0;\n",
              "      width: 32px;\n",
              "    }\n",
              "\n",
              "    .colab-df-convert:hover {\n",
              "      background-color: #E2EBFA;\n",
              "      box-shadow: 0px 1px 2px rgba(60, 64, 67, 0.3), 0px 1px 3px 1px rgba(60, 64, 67, 0.15);\n",
              "      fill: #174EA6;\n",
              "    }\n",
              "\n",
              "    .colab-df-buttons div {\n",
              "      margin-bottom: 4px;\n",
              "    }\n",
              "\n",
              "    [theme=dark] .colab-df-convert {\n",
              "      background-color: #3B4455;\n",
              "      fill: #D2E3FC;\n",
              "    }\n",
              "\n",
              "    [theme=dark] .colab-df-convert:hover {\n",
              "      background-color: #434B5C;\n",
              "      box-shadow: 0px 1px 3px 1px rgba(0, 0, 0, 0.15);\n",
              "      filter: drop-shadow(0px 1px 2px rgba(0, 0, 0, 0.3));\n",
              "      fill: #FFFFFF;\n",
              "    }\n",
              "  </style>\n",
              "\n",
              "    <script>\n",
              "      const buttonEl =\n",
              "        document.querySelector('#df-4bed000d-2b71-4811-ad1f-ee08893d74c6 button.colab-df-convert');\n",
              "      buttonEl.style.display =\n",
              "        google.colab.kernel.accessAllowed ? 'block' : 'none';\n",
              "\n",
              "      async function convertToInteractive(key) {\n",
              "        const element = document.querySelector('#df-4bed000d-2b71-4811-ad1f-ee08893d74c6');\n",
              "        const dataTable =\n",
              "          await google.colab.kernel.invokeFunction('convertToInteractive',\n",
              "                                                    [key], {});\n",
              "        if (!dataTable) return;\n",
              "\n",
              "        const docLinkHtml = 'Like what you see? Visit the ' +\n",
              "          '<a target=\"_blank\" href=https://colab.research.google.com/notebooks/data_table.ipynb>data table notebook</a>'\n",
              "          + ' to learn more about interactive tables.';\n",
              "        element.innerHTML = '';\n",
              "        dataTable['output_type'] = 'display_data';\n",
              "        await google.colab.output.renderOutput(dataTable, element);\n",
              "        const docLink = document.createElement('div');\n",
              "        docLink.innerHTML = docLinkHtml;\n",
              "        element.appendChild(docLink);\n",
              "      }\n",
              "    </script>\n",
              "  </div>\n",
              "\n",
              "\n",
              "<div id=\"df-96412f4c-310f-4740-9bd5-3c2246d84dae\">\n",
              "  <button class=\"colab-df-quickchart\" onclick=\"quickchart('df-96412f4c-310f-4740-9bd5-3c2246d84dae')\"\n",
              "            title=\"Suggest charts\"\n",
              "            style=\"display:none;\">\n",
              "\n",
              "<svg xmlns=\"http://www.w3.org/2000/svg\" height=\"24px\"viewBox=\"0 0 24 24\"\n",
              "     width=\"24px\">\n",
              "    <g>\n",
              "        <path d=\"M19 3H5c-1.1 0-2 .9-2 2v14c0 1.1.9 2 2 2h14c1.1 0 2-.9 2-2V5c0-1.1-.9-2-2-2zM9 17H7v-7h2v7zm4 0h-2V7h2v10zm4 0h-2v-4h2v4z\"/>\n",
              "    </g>\n",
              "</svg>\n",
              "  </button>\n",
              "\n",
              "<style>\n",
              "  .colab-df-quickchart {\n",
              "      --bg-color: #E8F0FE;\n",
              "      --fill-color: #1967D2;\n",
              "      --hover-bg-color: #E2EBFA;\n",
              "      --hover-fill-color: #174EA6;\n",
              "      --disabled-fill-color: #AAA;\n",
              "      --disabled-bg-color: #DDD;\n",
              "  }\n",
              "\n",
              "  [theme=dark] .colab-df-quickchart {\n",
              "      --bg-color: #3B4455;\n",
              "      --fill-color: #D2E3FC;\n",
              "      --hover-bg-color: #434B5C;\n",
              "      --hover-fill-color: #FFFFFF;\n",
              "      --disabled-bg-color: #3B4455;\n",
              "      --disabled-fill-color: #666;\n",
              "  }\n",
              "\n",
              "  .colab-df-quickchart {\n",
              "    background-color: var(--bg-color);\n",
              "    border: none;\n",
              "    border-radius: 50%;\n",
              "    cursor: pointer;\n",
              "    display: none;\n",
              "    fill: var(--fill-color);\n",
              "    height: 32px;\n",
              "    padding: 0;\n",
              "    width: 32px;\n",
              "  }\n",
              "\n",
              "  .colab-df-quickchart:hover {\n",
              "    background-color: var(--hover-bg-color);\n",
              "    box-shadow: 0 1px 2px rgba(60, 64, 67, 0.3), 0 1px 3px 1px rgba(60, 64, 67, 0.15);\n",
              "    fill: var(--button-hover-fill-color);\n",
              "  }\n",
              "\n",
              "  .colab-df-quickchart-complete:disabled,\n",
              "  .colab-df-quickchart-complete:disabled:hover {\n",
              "    background-color: var(--disabled-bg-color);\n",
              "    fill: var(--disabled-fill-color);\n",
              "    box-shadow: none;\n",
              "  }\n",
              "\n",
              "  .colab-df-spinner {\n",
              "    border: 2px solid var(--fill-color);\n",
              "    border-color: transparent;\n",
              "    border-bottom-color: var(--fill-color);\n",
              "    animation:\n",
              "      spin 1s steps(1) infinite;\n",
              "  }\n",
              "\n",
              "  @keyframes spin {\n",
              "    0% {\n",
              "      border-color: transparent;\n",
              "      border-bottom-color: var(--fill-color);\n",
              "      border-left-color: var(--fill-color);\n",
              "    }\n",
              "    20% {\n",
              "      border-color: transparent;\n",
              "      border-left-color: var(--fill-color);\n",
              "      border-top-color: var(--fill-color);\n",
              "    }\n",
              "    30% {\n",
              "      border-color: transparent;\n",
              "      border-left-color: var(--fill-color);\n",
              "      border-top-color: var(--fill-color);\n",
              "      border-right-color: var(--fill-color);\n",
              "    }\n",
              "    40% {\n",
              "      border-color: transparent;\n",
              "      border-right-color: var(--fill-color);\n",
              "      border-top-color: var(--fill-color);\n",
              "    }\n",
              "    60% {\n",
              "      border-color: transparent;\n",
              "      border-right-color: var(--fill-color);\n",
              "    }\n",
              "    80% {\n",
              "      border-color: transparent;\n",
              "      border-right-color: var(--fill-color);\n",
              "      border-bottom-color: var(--fill-color);\n",
              "    }\n",
              "    90% {\n",
              "      border-color: transparent;\n",
              "      border-bottom-color: var(--fill-color);\n",
              "    }\n",
              "  }\n",
              "</style>\n",
              "\n",
              "  <script>\n",
              "    async function quickchart(key) {\n",
              "      const quickchartButtonEl =\n",
              "        document.querySelector('#' + key + ' button');\n",
              "      quickchartButtonEl.disabled = true;  // To prevent multiple clicks.\n",
              "      quickchartButtonEl.classList.add('colab-df-spinner');\n",
              "      try {\n",
              "        const charts = await google.colab.kernel.invokeFunction(\n",
              "            'suggestCharts', [key], {});\n",
              "      } catch (error) {\n",
              "        console.error('Error during call to suggestCharts:', error);\n",
              "      }\n",
              "      quickchartButtonEl.classList.remove('colab-df-spinner');\n",
              "      quickchartButtonEl.classList.add('colab-df-quickchart-complete');\n",
              "    }\n",
              "    (() => {\n",
              "      let quickchartButtonEl =\n",
              "        document.querySelector('#df-96412f4c-310f-4740-9bd5-3c2246d84dae button');\n",
              "      quickchartButtonEl.style.display =\n",
              "        google.colab.kernel.accessAllowed ? 'block' : 'none';\n",
              "    })();\n",
              "  </script>\n",
              "</div>\n",
              "\n",
              "  <div id=\"id_3034ef6c-4b8d-445c-8bd6-e4eb4bde00fd\">\n",
              "    <style>\n",
              "      .colab-df-generate {\n",
              "        background-color: #E8F0FE;\n",
              "        border: none;\n",
              "        border-radius: 50%;\n",
              "        cursor: pointer;\n",
              "        display: none;\n",
              "        fill: #1967D2;\n",
              "        height: 32px;\n",
              "        padding: 0 0 0 0;\n",
              "        width: 32px;\n",
              "      }\n",
              "\n",
              "      .colab-df-generate:hover {\n",
              "        background-color: #E2EBFA;\n",
              "        box-shadow: 0px 1px 2px rgba(60, 64, 67, 0.3), 0px 1px 3px 1px rgba(60, 64, 67, 0.15);\n",
              "        fill: #174EA6;\n",
              "      }\n",
              "\n",
              "      [theme=dark] .colab-df-generate {\n",
              "        background-color: #3B4455;\n",
              "        fill: #D2E3FC;\n",
              "      }\n",
              "\n",
              "      [theme=dark] .colab-df-generate:hover {\n",
              "        background-color: #434B5C;\n",
              "        box-shadow: 0px 1px 3px 1px rgba(0, 0, 0, 0.15);\n",
              "        filter: drop-shadow(0px 1px 2px rgba(0, 0, 0, 0.3));\n",
              "        fill: #FFFFFF;\n",
              "      }\n",
              "    </style>\n",
              "    <button class=\"colab-df-generate\" onclick=\"generateWithVariable('res')\"\n",
              "            title=\"Generate code using this dataframe.\"\n",
              "            style=\"display:none;\">\n",
              "\n",
              "  <svg xmlns=\"http://www.w3.org/2000/svg\" height=\"24px\"viewBox=\"0 0 24 24\"\n",
              "       width=\"24px\">\n",
              "    <path d=\"M7,19H8.4L18.45,9,17,7.55,7,17.6ZM5,21V16.75L18.45,3.32a2,2,0,0,1,2.83,0l1.4,1.43a1.91,1.91,0,0,1,.58,1.4,1.91,1.91,0,0,1-.58,1.4L9.25,21ZM18.45,9,17,7.55Zm-12,3A5.31,5.31,0,0,0,4.9,8.1,5.31,5.31,0,0,0,1,6.5,5.31,5.31,0,0,0,4.9,4.9,5.31,5.31,0,0,0,6.5,1,5.31,5.31,0,0,0,8.1,4.9,5.31,5.31,0,0,0,12,6.5,5.46,5.46,0,0,0,6.5,12Z\"/>\n",
              "  </svg>\n",
              "    </button>\n",
              "    <script>\n",
              "      (() => {\n",
              "      const buttonEl =\n",
              "        document.querySelector('#id_3034ef6c-4b8d-445c-8bd6-e4eb4bde00fd button.colab-df-generate');\n",
              "      buttonEl.style.display =\n",
              "        google.colab.kernel.accessAllowed ? 'block' : 'none';\n",
              "\n",
              "      buttonEl.onclick = () => {\n",
              "        google.colab.notebook.generateWithVariable('res');\n",
              "      }\n",
              "      })();\n",
              "    </script>\n",
              "  </div>\n",
              "\n",
              "    </div>\n",
              "  </div>\n"
            ],
            "application/vnd.google.colaboratory.intrinsic+json": {
              "type": "dataframe",
              "variable_name": "res",
              "repr_error": "0"
            }
          },
          "metadata": {},
          "execution_count": 99
        }
      ]
    },
    {
      "cell_type": "code",
      "source": [
        "!python --version"
      ],
      "metadata": {
        "id": "tQxQ5tM9HCm4",
        "outputId": "7554c9ce-fac3-4398-85d3-1159f1b53508",
        "colab": {
          "base_uri": "https://localhost:8080/"
        }
      },
      "execution_count": null,
      "outputs": [
        {
          "output_type": "stream",
          "name": "stdout",
          "text": [
            "Python 3.11.11\n"
          ]
        }
      ]
    }
  ]
}